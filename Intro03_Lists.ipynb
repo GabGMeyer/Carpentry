{
 "cells": [
  {
   "cell_type": "markdown",
   "metadata": {},
   "source": [
    "## Lists"
   ]
  },
  {
   "cell_type": "code",
   "execution_count": 1,
   "metadata": {
    "collapsed": true
   },
   "outputs": [],
   "source": [
    "odds = [1, 3, 5, 7]"
   ]
  },
  {
   "cell_type": "code",
   "execution_count": 4,
   "metadata": {
    "collapsed": false
   },
   "outputs": [
    {
     "name": "stdout",
     "output_type": "stream",
     "text": [
      "names are originally ['Newton', 'Darwing', 'Turing']\n",
      "is now: ['Newton', 'Darwin', 'Turing']\n"
     ]
    }
   ],
   "source": [
    "names = ['Newton','Darwing','Turing']\n",
    "print('names are originally', names)\n",
    "names[1] = 'Darwin'\n",
    "print('is now:', names)"
   ]
  },
  {
   "cell_type": "code",
   "execution_count": 6,
   "metadata": {
    "collapsed": false
   },
   "outputs": [
    {
     "name": "stdout",
     "output_type": "stream",
     "text": [
      "['truc1', 'truc2', 'truc3']\n",
      "[['truc1', 'truc2', 'truc3']]\n",
      "truc1\n"
     ]
    }
   ],
   "source": [
    "trucs = [['truc1','truc2','truc3'],['chose1','chose2','chose3']] #This is a nested list\n",
    "print(trucs[0]) #First list of the list\n",
    "print([trucs[0]]) #First list of the list but still in the list\n",
    "print(trucs[0][0]) #First element of the first list"
   ]
  },
  {
   "cell_type": "code",
   "execution_count": 7,
   "metadata": {
    "collapsed": false
   },
   "outputs": [
    {
     "name": "stdout",
     "output_type": "stream",
     "text": [
      "[3, 5, 7, 11, 2]\n",
      "[3, 5, 7, 11, 2]\n"
     ]
    }
   ],
   "source": [
    "odds.append(11) #Adding an element to a list\n",
    "primes = odds\n",
    "primes += [2] #Primes = primes + 2; other easy way to append\n",
    "del odds[0] #Delete the first element of a list could have used odds.remove \n",
    "            #but the memory allowed to the ting deleted would have still been allocated\n",
    "    \n",
    "print(odds)\n",
    "print(primes) #Both primes and odds refer to the same list, changing one will change the other!"
   ]
  },
  {
   "cell_type": "code",
   "execution_count": null,
   "metadata": {
    "collapsed": true
   },
   "outputs": [],
   "source": [
    "newprimes = odds[:] #Here we assigned the content of odds to newprimes so we can change the later without changing odds"
   ]
  }
 ],
 "metadata": {
  "anaconda-cloud": {},
  "kernelspec": {
   "display_name": "Python [conda root]",
   "language": "python",
   "name": "conda-root-py"
  },
  "language_info": {
   "codemirror_mode": {
    "name": "ipython",
    "version": 3
   },
   "file_extension": ".py",
   "mimetype": "text/x-python",
   "name": "python",
   "nbconvert_exporter": "python",
   "pygments_lexer": "ipython3",
   "version": "3.5.2"
  }
 },
 "nbformat": 4,
 "nbformat_minor": 1
}
